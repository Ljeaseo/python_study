{
 "cells": [
  {
   "cell_type": "code",
   "execution_count": 3,
   "metadata": {},
   "outputs": [
    {
     "name": "stdout",
     "output_type": "stream",
     "text": [
      "None\n"
     ]
    }
   ],
   "source": [
    "a = None\n",
    "print(a)"
   ]
  },
  {
   "cell_type": "code",
   "execution_count": 8,
   "metadata": {},
   "outputs": [
    {
     "name": "stdout",
     "output_type": "stream",
     "text": [
      "True\n"
     ]
    }
   ],
   "source": [
    "# 입력 0 , None, '' 이면 Flase , 0 이 아니면 True\n",
    "if ' ':\n",
    "    print(\"True\")"
   ]
  },
  {
   "cell_type": "markdown",
   "metadata": {},
   "source": [
    "# 헤딩1\n",
    "## 헤딩2\n",
    "### 헤딩3\n",
    "#### 헤딩4\n",
    "##### 헤딩5\n",
    "###### 헤딩6\n",
    "\n",
    "<h1> 헤딩1 </h1>\n",
    "<h2> 헤딩2 </h2>\n",
    "<h3> 헤딩3 </h3>\n",
    "<h4> 헤딩4 </h4>\n",
    "<h5> 헤딩5 </h5>\n",
    "<h6> 헤딩6 </h6>"
   ]
  },
  {
   "cell_type": "markdown",
   "metadata": {},
   "source": [
    "순서가 있는 리스트 (ordered list, ol), list item : li\n",
    "\n",
    "<ol>여름에 나오는 과일\n",
    "    <li>수박</li>\n",
    "    <li>사과</li>\n",
    "    <li>포도</li>\n",
    "</ol>\n",
    "\n",
    "1. 여름에 나오는 과일\n",
    "    1. 수박\n",
    "    2. 사과\n",
    "    3. 포도\n",
    "2. 가을에 나오는 과일\n",
    "    1. 기타\n",
    "    2. 등등"
   ]
  },
  {
   "cell_type": "markdown",
   "metadata": {},
   "source": [
    "순서가 없는 리스트, *, +, -\n",
    "* 수박\n",
    "    * 씨 없는 수박\n",
    "    * 씨 있는 수박\n",
    "+ 사과\n",
    "- 포도"
   ]
  },
  {
   "cell_type": "markdown",
   "metadata": {},
   "source": [
    "> 인용구 1\n",
    ">> 인용구 2\n",
    ">>> 인용구 3\n",
    ">>>> 인용구4"
   ]
  },
  {
   "cell_type": "markdown",
   "metadata": {},
   "source": [
    "<pre>\n",
    "<code>\n",
    "    public class Test(){\n",
    "        public static void main(String[] args){\n",
    "            \n",
    "        }\n",
    "    }\n",
    "</code>\n",
    "</pre>\n",
    "\n",
    "\n",
    "``` Java    \n",
    "    (backtick)\n",
    "    public class Test(){\n",
    "        public static void main(String[] args){\n",
    "            \n",
    "        }\n",
    "    }\n",
    "```\n",
    "```python\n",
    "    class Test():\n",
    "        staticVariable = 0\n",
    "        def __int__(self):\n",
    "            self.instanceVariable = 0\n",
    "```\n"
   ]
  },
  {
   "cell_type": "markdown",
   "metadata": {},
   "source": [
    "수평선 넣기 '''--- , ***'''\n",
    "\n",
    "---\n",
    "줄바꿈 '''공백두개 엔터, <br> , \\n -> 코딩에서''' \n",
    "\n",
    "***"
   ]
  },
  {
   "cell_type": "markdown",
   "metadata": {},
   "source": [
    "'''글자 처리 b, i, strike, u'''\n",
    "\n",
    "**글자굵게**\n",
    "<br>\n",
    "~~취소선1~~ <strike> 취소선2 </strike>\n",
    "<br>\n",
    "<u>밑줄</u>\n",
    "<br>\n",
    "_글자 기울임_\n",
    "<br>\n",
    "ΔΔΔ<br>\n",
    "0 0 β<br>\n",
    "δ "
   ]
  },
  {
   "cell_type": "markdown",
   "metadata": {},
   "source": [
    "|head|head2|head3|\n",
    "|-|-|-|\n",
    "|item1|item2|item3|\n",
    "|item1|item2|item3|\n",
    "\n",
    "\n",
    "|head.................|head2....................|head3.................|\n",
    "|:-|:-:|-:|\n",
    "|       item1      |       item2       |       item3       |\n",
    "|       item1      |       item2       |       item3       |  "
   ]
  },
  {
   "cell_type": "markdown",
   "metadata": {},
   "source": [
    "https://www.naver.com/\n",
    "\n",
    "<https://www.naver.com/>\n",
    "\n",
    "[네이버](https://www.naver.com/)\n",
    "\n",
    "![구글](https://www.google.com/images/branding/googlelogo/1x/googlelogo_color_272x92dp.png)\n",
    "\n",
    "<img src=\"https://www.google.com/images/branding/googlelogo/1x/googlelogo_color_272x92dp.png\" width=100>"
   ]
  },
  {
   "cell_type": "markdown",
   "metadata": {},
   "source": [
    "<details>\n",
    "<summary>접기/펼치기 버튼</summary>\n",
    "<div markdown=\"1\">\n",
    "\n",
    "|제목|내용|\n",
    "|--|--|\n",
    "|1|1|\n",
    "|2|10|\n",
    "\n",
    "</div>\n",
    "</details>"
   ]
  },
  {
   "cell_type": "markdown",
   "metadata": {},
   "source": [
    "<span style=\"color:yellow;font-size:50px;\">글자 색과 폰트 크기 바꾸기</span>"
   ]
  },
  {
   "cell_type": "markdown",
   "metadata": {},
   "source": []
  }
 ],
 "metadata": {
  "kernelspec": {
   "display_name": "Python 3.10.6 64-bit",
   "language": "python",
   "name": "python3"
  },
  "language_info": {
   "codemirror_mode": {
    "name": "ipython",
    "version": 3
   },
   "file_extension": ".py",
   "mimetype": "text/x-python",
   "name": "python",
   "nbconvert_exporter": "python",
   "pygments_lexer": "ipython3",
   "version": "3.10.6"
  },
  "orig_nbformat": 4,
  "vscode": {
   "interpreter": {
    "hash": "8070abc879b547d648634b66dafec4a57643d094ec5a9be6cb583db0cfff3cb9"
   }
  }
 },
 "nbformat": 4,
 "nbformat_minor": 2
}
