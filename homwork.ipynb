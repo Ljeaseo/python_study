{
 "cells": [
  {
   "cell_type": "code",
   "execution_count": 1,
   "metadata": {},
   "outputs": [
    {
     "name": "stdout",
     "output_type": "stream",
     "text": [
      "3\n",
      "3\n"
     ]
    }
   ],
   "source": [
    "a = 3\n",
    "print(a)\n",
    "에이 = 3\n",
    "print(에이)  #한글 변수명이 된다."
   ]
  },
  {
   "cell_type": "markdown",
   "metadata": {},
   "source": [
    "# 원 면적 구하기\n",
    "<h1> 원 면적 구하기 </h1>\n",
    "\n",
    "html 태그를 그대로 사용 할 수 있다."
   ]
  },
  {
   "cell_type": "code",
   "execution_count": 2,
   "metadata": {},
   "outputs": [
    {
     "ename": "ValueError",
     "evalue": "could not convert string to float: ''",
     "output_type": "error",
     "traceback": [
      "\u001b[1;31m---------------------------------------------------------------------------\u001b[0m",
      "\u001b[1;31mValueError\u001b[0m                                Traceback (most recent call last)",
      "\u001b[1;32md:\\00-BACKUP\\파이썬\\homwork.ipynb 셀 3\u001b[0m in \u001b[0;36m<cell line: 3>\u001b[1;34m()\u001b[0m\n\u001b[0;32m      <a href='vscode-notebook-cell:/d%3A/00-BACKUP/%ED%8C%8C%EC%9D%B4%EC%8D%AC/homwork.ipynb#X25sZmlsZQ%3D%3D?line=0'>1</a>\u001b[0m \u001b[39mimport\u001b[39;00m \u001b[39mmath\u001b[39;00m\n\u001b[1;32m----> <a href='vscode-notebook-cell:/d%3A/00-BACKUP/%ED%8C%8C%EC%9D%B4%EC%8D%AC/homwork.ipynb#X25sZmlsZQ%3D%3D?line=2'>3</a>\u001b[0m 반지름 \u001b[39m=\u001b[39m \u001b[39mfloat\u001b[39;49m(\u001b[39minput\u001b[39;49m(\u001b[39m\"\u001b[39;49m\u001b[39m반지름을 입력하세요 :\u001b[39;49m\u001b[39m\"\u001b[39;49m\u001b[39m+\u001b[39;49m\u001b[39m\"\u001b[39;49m\u001b[39m\"\u001b[39;49m)) \n\u001b[0;32m      <a href='vscode-notebook-cell:/d%3A/00-BACKUP/%ED%8C%8C%EC%9D%B4%EC%8D%AC/homwork.ipynb#X25sZmlsZQ%3D%3D?line=5'>6</a>\u001b[0m 둘레 \u001b[39m=\u001b[39m \u001b[39mfloat\u001b[39m(\u001b[39m2\u001b[39m \u001b[39m*\u001b[39m math\u001b[39m.\u001b[39mpi \u001b[39m*\u001b[39m 반지름)  \n\u001b[0;32m      <a href='vscode-notebook-cell:/d%3A/00-BACKUP/%ED%8C%8C%EC%9D%B4%EC%8D%AC/homwork.ipynb#X25sZmlsZQ%3D%3D?line=6'>7</a>\u001b[0m 면적 \u001b[39m=\u001b[39m \u001b[39mfloat\u001b[39m(math\u001b[39m.\u001b[39mpi \u001b[39m*\u001b[39m 반지름 \u001b[39m*\u001b[39m\u001b[39m*\u001b[39m \u001b[39m2\u001b[39m) \n",
      "\u001b[1;31mValueError\u001b[0m: could not convert string to float: ''"
     ]
    }
   ],
   "source": [
    "import math\n",
    "\n",
    "반지름 = float(input(\"반지름을 입력하세요 :\"+\"\")) \n",
    "\n",
    "\n",
    "둘레 = float(2 * math.pi * 반지름)  \n",
    "면적 = float(math.pi * 반지름 ** 2) \n",
    "\n",
    "print(f'둘레:{둘레:.2f}, 면적:{면적:.2f}')\n"
   ]
  },
  {
   "cell_type": "code",
   "execution_count": null,
   "metadata": {},
   "outputs": [
    {
     "name": "stdout",
     "output_type": "stream",
     "text": [
      "3.0,4.0\n",
      "3.0\n",
      "4.0\n"
     ]
    }
   ],
   "source": [
    "복소수1=3+4j\n",
    "print(f'{복소수1.real},{복소수1.imag}')\n",
    "print(복소수1.real)\n",
    "print(복소수1.imag)"
   ]
  },
  {
   "cell_type": "code",
   "execution_count": null,
   "metadata": {},
   "outputs": [
    {
     "name": "stdout",
     "output_type": "stream",
     "text": [
      "<class 'int'>\n",
      "<class 'float'>\n",
      "<class 'bool'>\n",
      "<class 'complex'>\n",
      "<class 'str'>\n",
      "<class 'str'>\n",
      "<class 'bool'>\n",
      "<class 'tuple'>\n",
      "<class 'set'>\n",
      "<class 'list'>\n"
     ]
    }
   ],
   "source": [
    "print(type(1))\n",
    "print(type(1.2))\n",
    "print(type(True))\n",
    "print(type(3+4j))\n",
    "print(type('문자열'))\n",
    "print(type('a'))\n",
    "print(type(2<3))\n",
    "print(type((1,2,3)))\n",
    "print(type({1,2,3}))\n",
    "print(type([1,2,3]))\n"
   ]
  },
  {
   "cell_type": "code",
   "execution_count": null,
   "metadata": {},
   "outputs": [
    {
     "name": "stdout",
     "output_type": "stream",
     "text": [
      "99999999999999999999999999999999999999999\n"
     ]
    }
   ],
   "source": [
    "num = 99999999999999999999999999999999999999999\n",
    "print(num)"
   ]
  },
  {
   "cell_type": "code",
   "execution_count": null,
   "metadata": {},
   "outputs": [
    {
     "name": "stdout",
     "output_type": "stream",
     "text": [
      "99999999999999999999999999999999999999999\n",
      "255 63 15\n"
     ]
    }
   ],
   "source": [
    "# 파이썬은 정수의 끝이 없다. \n",
    "num = 99999999999999999999999999999999999999999\n",
    "print(num)\n",
    "\n"
   ]
  },
  {
   "cell_type": "code",
   "execution_count": null,
   "metadata": {},
   "outputs": [
    {
     "name": "stdout",
     "output_type": "stream",
     "text": [
      "255 63 15\n",
      "a:0xff, b:0o77, c:0b1111\n",
      "a:0xff, b:0o77, c:0b1111\n",
      "a:0x00ff, a:  0xff\n",
      "a:0X00FF, a:  0XFF\n"
     ]
    }
   ],
   "source": [
    "#16진수\n",
    "a = 0xFF\n",
    "#8진수\n",
    "b = 0o77\n",
    "#2진수\n",
    "c = 0b1111\n",
    "\n",
    "print(a,b,c)  \n",
    "print('a:{0:#x}, b:{1:#o}, c:{2:#b}'.format(a,b,c))\n",
    "print(f'a:{a:#x}, b:{b:#o}, c:{c:#b}')\n",
    "print(f'a:{a:#06x}, a:{a:#6x}')\n",
    "print(f'a:{a:#06X}, a:{a:#6X}')"
   ]
  },
  {
   "cell_type": "code",
   "execution_count": null,
   "metadata": {},
   "outputs": [
    {
     "name": "stdout",
     "output_type": "stream",
     "text": [
      "63\n",
      "21\n"
     ]
    }
   ],
   "source": [
    "문자열1 = '3f'\n",
    "숫자 = int(문자열1, 16) #int(문자열, base(기저))\n",
    "print(숫자)\n",
    "\n",
    "문자열2 = '010101'\n",
    "숫자2 = int(문자열2, 2)\n",
    "print(숫자2)"
   ]
  },
  {
   "cell_type": "code",
   "execution_count": null,
   "metadata": {},
   "outputs": [
    {
     "name": "stdout",
     "output_type": "stream",
     "text": [
      "=====\n"
     ]
    }
   ],
   "source": [
    "line = \"=\" *5\n",
    "print(line)"
   ]
  },
  {
   "cell_type": "code",
   "execution_count": null,
   "metadata": {},
   "outputs": [
    {
     "name": "stdout",
     "output_type": "stream",
     "text": [
      "a\n",
      "b\n",
      "c\n",
      "d\n",
      "e\n",
      "f\n",
      "g\n",
      "h\n",
      "i\n",
      "j\n",
      "k\n",
      "l\n",
      "m\n",
      "n\n",
      "o\n",
      "p\n",
      "q\n",
      "r\n",
      "s\n",
      "t\n",
      "u\n",
      "v\n",
      "w\n",
      "x\n",
      "y\n",
      "z\n"
     ]
    }
   ],
   "source": [
    "문자열3= 'abcdefghijklmnopqrstuvwxyz'\n",
    "# for i in range(0, len(문자열3)):\n",
    "#     print(i)\n",
    "    \n",
    "for i in 문자열3:\n",
    "    print(i)"
   ]
  },
  {
   "cell_type": "code",
   "execution_count": null,
   "metadata": {},
   "outputs": [
    {
     "data": {
      "text/plain": [
       "'zyxwvutsrqponmlkjihgfedcba'"
      ]
     },
     "execution_count": 57,
     "metadata": {},
     "output_type": "execute_result"
    }
   ],
   "source": [
    "letters = 'abcdefghijklmnopqrstuvwxyz'\n",
    "\n",
    "letters[::-1]"
   ]
  },
  {
   "cell_type": "code",
   "execution_count": null,
   "metadata": {},
   "outputs": [
    {
     "name": "stdout",
     "output_type": "stream",
     "text": [
      "1976296735024\n",
      "1976296735024\n",
      "3 5\n",
      "1976296735024\n",
      "1976296735088\n"
     ]
    }
   ],
   "source": [
    "x = 3\n",
    "y = x\n",
    "print(id(x))\n",
    "print(id(y))\n",
    "y = 5\n",
    "print(x,y)\n",
    "print(id(x))\n",
    "print(id(y))\n"
   ]
  },
  {
   "cell_type": "code",
   "execution_count": 1,
   "metadata": {},
   "outputs": [
    {
     "ename": "",
     "evalue": "",
     "output_type": "error",
     "traceback": [
      "\u001b[1;31mCanceled future for execute_request message before replies were done"
     ]
    },
    {
     "ename": "",
     "evalue": "",
     "output_type": "error",
     "traceback": [
      "현재 셀 또는 이전 셀에서 코드를 실행하는 동안 Kernel이 충돌했습니다. 셀의 코드를 검토하여 오류의 가능한 원인을 식별하세요. 자세한 내용을 보려면 <a href='https://aka.ms/vscodeJupyterKernelCrash'> 여기 </a> 를 클릭하세요. 자세한 내용은 Jupyter <a href='command:jupyter.viewOutput'>로그</a>를 참조하세요."
     ]
    }
   ],
   "source": [
    "import turtle\n",
    "\n",
    "t = turtle.Turtle()\n",
    "t.shape(\"turtle\")\n",
    "\n",
    "\n",
    "size = 100\n",
    "\n",
    "t.forward(size)\n",
    "t.right(90)\n",
    "t.forward(size)\n",
    "t.right(90)\n",
    "t.forward(size)\n",
    "t.right(90)\n",
    "t.forward(size)\n",
    "\n",
    "import os\n",
    "os.system(\"pause\")"
   ]
  }
 ],
 "metadata": {
  "kernelspec": {
   "display_name": "Python 3.10.6 64-bit",
   "language": "python",
   "name": "python3"
  },
  "language_info": {
   "codemirror_mode": {
    "name": "ipython",
    "version": 3
   },
   "file_extension": ".py",
   "mimetype": "text/x-python",
   "name": "python",
   "nbconvert_exporter": "python",
   "pygments_lexer": "ipython3",
   "version": "3.10.6"
  },
  "orig_nbformat": 4,
  "vscode": {
   "interpreter": {
    "hash": "8070abc879b547d648634b66dafec4a57643d094ec5a9be6cb583db0cfff3cb9"
   }
  }
 },
 "nbformat": 4,
 "nbformat_minor": 2
}
