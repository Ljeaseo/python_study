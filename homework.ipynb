{
 "cells": [
  {
   "cell_type": "code",
   "execution_count": 6,
   "metadata": {},
   "outputs": [
    {
     "name": "stdout",
     "output_type": "stream",
     "text": [
      "1000 1000 1000\n"
     ]
    },
    {
     "ename": "TypeError",
     "evalue": "'module' object is not callable",
     "output_type": "error",
     "traceback": [
      "\u001b[1;31m---------------------------------------------------------------------------\u001b[0m",
      "\u001b[1;31mTypeError\u001b[0m                                 Traceback (most recent call last)",
      "\u001b[1;32md:\\00-BACKUP\\파이썬\\homework.ipynb 셀 1\u001b[0m in \u001b[0;36m<cell line: 9>\u001b[1;34m()\u001b[0m\n\u001b[0;32m      <a href='vscode-notebook-cell:/d%3A/00-BACKUP/%ED%8C%8C%EC%9D%B4%EC%8D%AC/homework.ipynb#W0sZmlsZQ%3D%3D?line=4'>5</a>\u001b[0m mat \u001b[39m=\u001b[39m \u001b[39minput\u001b[39m(\u001b[39m'\u001b[39m\u001b[39m수학점수:\u001b[39m\u001b[39m'\u001b[39m)\n\u001b[0;32m      <a href='vscode-notebook-cell:/d%3A/00-BACKUP/%ED%8C%8C%EC%9D%B4%EC%8D%AC/homework.ipynb#W0sZmlsZQ%3D%3D?line=6'>7</a>\u001b[0m \u001b[39mprint\u001b[39m(kor,eng,mat)\n\u001b[1;32m----> <a href='vscode-notebook-cell:/d%3A/00-BACKUP/%ED%8C%8C%EC%9D%B4%EC%8D%AC/homework.ipynb#W0sZmlsZQ%3D%3D?line=8'>9</a>\u001b[0m avg \u001b[39m=\u001b[39m math(kor\u001b[39m+\u001b[39;49meng\u001b[39m+\u001b[39;49mmat)\u001b[39m/\u001b[39m\u001b[39m3\u001b[39m\n\u001b[0;32m     <a href='vscode-notebook-cell:/d%3A/00-BACKUP/%ED%8C%8C%EC%9D%B4%EC%8D%AC/homework.ipynb#W0sZmlsZQ%3D%3D?line=10'>11</a>\u001b[0m \u001b[39mprint\u001b[39m \u001b[39m=\u001b[39m avg\n",
      "\u001b[1;31mTypeError\u001b[0m: 'module' object is not callable"
     ]
    }
   ],
   "source": [
    "import math\n",
    "\n",
    "kor = input('국어점수:')\n",
    "eng = input(\"영어점수:\")\n",
    "mat = input('수학점수:')\n",
    "\n",
    "print(kor,eng,mat)\n",
    "\n",
    "avg = math(kor+eng+mat)/3\n",
    "\n",
    "print = avg"
   ]
  }
 ],
 "metadata": {
  "kernelspec": {
   "display_name": "Python 3.10.6 ('venv': venv)",
   "language": "python",
   "name": "python3"
  },
  "language_info": {
   "codemirror_mode": {
    "name": "ipython",
    "version": 3
   },
   "file_extension": ".py",
   "mimetype": "text/x-python",
   "name": "python",
   "nbconvert_exporter": "python",
   "pygments_lexer": "ipython3",
   "version": "3.10.6"
  },
  "orig_nbformat": 4,
  "vscode": {
   "interpreter": {
    "hash": "cbad763fa34a2f36edb998469c106a80d3d3190a4361f71d24c55c325348fc5d"
   }
  }
 },
 "nbformat": 4,
 "nbformat_minor": 2
}
